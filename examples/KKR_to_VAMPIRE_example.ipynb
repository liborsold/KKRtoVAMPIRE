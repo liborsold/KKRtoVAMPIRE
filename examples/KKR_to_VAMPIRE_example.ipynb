{
 "cells": [
  {
   "cell_type": "code",
   "execution_count": 3,
   "metadata": {},
   "outputs": [],
   "source": [
    "from KKRtoVAMPIRE.Converter import Converter"
   ]
  },
  {
   "cell_type": "code",
   "execution_count": 4,
   "metadata": {},
   "outputs": [
    {
     "name": "stdout",
     "output_type": "stream",
     "text": [
      ".pot file parsed\n",
      "20\n",
      "[[ 6.76974621  0.          0.        ]\n",
      " [-3.38487229  5.86277267  0.        ]\n",
      " [ 0.          0.         12.19999498]]\n",
      "[[ 0.00000000e+00  3.30902500e-01  1.25573694e-04  6.77215211e-01\n",
      "   0.00000000e+00]\n",
      " [ 1.00000000e+00 -1.65560460e-01  2.86508073e-01  6.77215211e-01\n",
      "   1.00000000e+00]\n",
      " [ 2.00000000e+00 -1.65343540e-01 -2.86632781e-01  6.77215211e-01\n",
      "   2.00000000e+00]\n",
      " [ 3.00000000e+00  1.65342460e-01 -2.86632781e-01  2.23852169e-01\n",
      "   3.00000000e+00]\n",
      " [ 4.00000000e+00 -3.30903500e-01  1.25573694e-04  2.23852169e-01\n",
      "   4.00000000e+00]\n",
      " [ 5.00000000e+00  1.65559540e-01  2.86508073e-01  2.23852169e-01\n",
      "   5.00000000e+00]\n",
      " [ 6.00000000e+00 -3.30902500e-01 -1.25573694e-04  1.12491955e+00\n",
      "   6.00000000e+00]\n",
      " [ 7.00000000e+00  1.65560460e-01 -2.86508073e-01  1.12491955e+00\n",
      "   7.00000000e+00]\n",
      " [ 8.00000000e+00  1.65343540e-01  2.86632781e-01  1.12491955e+00\n",
      "   8.00000000e+00]\n",
      " [ 9.00000000e+00 -1.65342460e-01  2.86632781e-01 -2.23852169e-01\n",
      "   9.00000000e+00]\n",
      " [ 1.00000000e+01  3.30903500e-01 -1.25573694e-04 -2.23852169e-01\n",
      "   1.00000000e+01]\n",
      " [ 1.10000000e+01 -1.65559540e-01 -2.86508073e-01 -2.23852169e-01\n",
      "   1.10000000e+01]\n",
      " [ 1.20000000e+01  4.99999960e-01 -2.88675158e-01  4.50533690e-01\n",
      "   1.20000000e+01]\n",
      " [ 1.30000000e+01  5.00000040e-01  2.88675158e-01 -4.50533690e-01\n",
      "   1.30000000e+01]\n",
      " [ 1.40000000e+01  0.00000000e+00  0.00000000e+00  0.00000000e+00\n",
      "   1.40000000e+01]\n",
      " [ 1.50000000e+01  0.00000000e+00  0.00000000e+00  9.01067381e-01\n",
      "   1.50000000e+01]\n",
      " [ 1.60000000e+01  4.99999960e-01 -2.88675158e-01 -8.98364179e-03\n",
      "   1.60000000e+01]\n",
      " [ 1.70000000e+01  8.06130000e-08  5.77350316e-01  9.10051023e-01\n",
      "   1.70000000e+01]\n",
      " [ 1.80000000e+01  5.00000040e-01  2.88675158e-01  8.98364179e-03\n",
      "   1.80000000e+01]\n",
      " [ 1.90000000e+01  5.00000040e-01  2.88675158e-01  8.92083739e-01\n",
      "   1.90000000e+01]]\n",
      "['Te_1', 'Te_2', 'Te_3', 'Te_4', 'Te_5', 'Te_6', 'Te_7', 'Te_8', 'Te_9', 'Te_10', 'Te_11', 'Te_12', 'Cr_1', 'Cr_2', 'Cr_3', 'Cr_4', 'Cr_5', 'Cr_6', 'Cr_7', 'Cr_8']\n",
      "['Te_1', 'Te_2', 'Te_3', 'Te_4', 'Te_5', 'Te_6', 'Te_7', 'Te_8', 'Te_9', 'Te_10', 'Te_11', 'Te_12', 'Cr_1', 'Cr_2', 'Cr_3', 'Cr_4', 'Cr_5', 'Cr_6', 'Cr_7', 'Cr_8']\n",
      "6.769746213704728\n",
      "mag_moments obtained: ['-0.2849', '-0.2849', '-0.2849', '-0.2849', '-0.2849', '-0.2849', '-0.2849', '-0.2849', '-0.2849', '-0.2849', '-0.2849', '-0.2849', '3.2023', '3.2023', '3.1013', '3.1013', '3.1487', '3.1487', '3.1487', '3.1487']\n",
      "torques obtained\n",
      "['-0.2849', '-0.2849', '-0.2849', '-0.2849', '-0.2849', '-0.2849', '-0.2849', '-0.2849', '-0.2849', '-0.2849', '-0.2849', '-0.2849', '3.2023', '3.2023', '3.1013', '3.1013', '3.1487', '3.1487', '3.1487', '3.1487']\n",
      ".mat file written\n",
      "latt_params: [ 6.76974621  6.76974621 12.19999498]\n",
      "['Te_1', 'Te_2', 'Te_3', 'Te_4', 'Te_5', 'Te_6', 'Te_7', 'Te_8', 'Te_9', 'Te_10', 'Te_11', 'Te_12', 'Cr_1', 'Cr_2', 'Cr_3', 'Cr_4', 'Cr_5', 'Cr_6', 'Cr_7', 'Cr_8']\n",
      "all matrix columns created\n",
      "DMI will *NOT* be included\n",
      ".UCF file written\n",
      "----------- threshold 0.000  -----------\n"
     ]
    },
    {
     "name": "stderr",
     "output_type": "stream",
     "text": [
      "C:\\Users\\lv268562\\Documents\\PhD work\\Scripts\\KKRtoVAMPIRE\\src\\KKRtoVAMPIRE\\utils.py:59: FutureWarning: In a future version of pandas all arguments of DataFrame.drop except for the argument 'labels' will be keyword-only.\n",
      "  df.drop('cum_abs_sum_all', 1, inplace=True)\n",
      "C:\\Users\\lv268562\\Documents\\PhD work\\Scripts\\KKRtoVAMPIRE\\src\\KKRtoVAMPIRE\\utils.py:60: FutureWarning: In a future version of pandas all arguments of DataFrame.drop except for the argument 'labels' will be keyword-only.\n",
      "  df.drop('abs_sum_all', 1, inplace=True)\n"
     ]
    },
    {
     "name": "stdout",
     "output_type": "stream",
     "text": [
      "cropped .UCF file written\n"
     ]
    }
   ],
   "source": [
    "converter = Converter(path='./SPRKKR_files', system_name='POSCAR')\n",
    "\n",
    "converter.convert(crop_thresholds=[0], path_out='./converted_VAMPIRE_files', include_dmi=False, include_anisotropy=True)"
   ]
  },
  {
   "cell_type": "code",
   "execution_count": null,
   "metadata": {},
   "outputs": [],
   "source": []
  }
 ],
 "metadata": {
  "kernelspec": {
   "display_name": "Python 3",
   "language": "python",
   "name": "python3"
  },
  "language_info": {
   "codemirror_mode": {
    "name": "ipython",
    "version": 3
   },
   "file_extension": ".py",
   "mimetype": "text/x-python",
   "name": "python",
   "nbconvert_exporter": "python",
   "pygments_lexer": "ipython3",
   "version": "3.10.0"
  },
  "orig_nbformat": 4
 },
 "nbformat": 4,
 "nbformat_minor": 2
}
